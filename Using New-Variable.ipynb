{
 "cells": [
  {
   "attachments": {},
   "cell_type": "markdown",
   "metadata": {
    "dotnet_interactive": {
     "language": "pwsh"
    },
    "polyglot_notebook": {
     "kernelName": "pwsh"
    }
   },
   "source": [
    "## Ideas and Tips for Using New-Variable PowerShell\n",
    "Some of these examples make use of Set-Variable, but work the same way."
   ]
  },
  {
   "attachments": {},
   "cell_type": "markdown",
   "metadata": {
    "dotnet_interactive": {
     "language": "pwsh"
    },
    "polyglot_notebook": {
     "kernelName": "pwsh"
    }
   },
   "source": [
    "### Set options while creating variables\n",
    "Use it to create a constant variable or a read-only variable."
   ]
  },
  {
   "cell_type": "code",
   "execution_count": null,
   "metadata": {
    "dotnet_interactive": {
     "language": "pwsh"
    },
    "polyglot_notebook": {
     "kernelName": "pwsh"
    },
    "vscode": {
     "languageId": "polyglot-notebook"
    }
   },
   "outputs": [],
   "source": [
    "New-Variable -Name pi -Value $([math]::Pi) -Option constant\n",
    "$Pi"
   ]
  },
  {
   "attachments": {},
   "cell_type": "markdown",
   "metadata": {
    "dotnet_interactive": {
     "language": "pwsh"
    },
    "polyglot_notebook": {
     "kernelName": "pwsh"
    }
   },
   "source": [
    "### Make your code easier to read (or just flow differently)\n",
    "\n",
    "Append `New-Variable` to a very long command rather than creating the variable inline with `$variable = Run-Command`.  \n",
    "NOTE: You can usually just use the `-OutVariable`  common parameter instead of either of those approaches. Appending `New-Variable` can make it easier to set options for the variable or combine with other techniques described below."
   ]
  },
  {
   "cell_type": "code",
   "execution_count": null,
   "metadata": {
    "dotnet_interactive": {
     "language": "pwsh"
    },
    "polyglot_notebook": {
     "kernelName": "pwsh"
    },
    "vscode": {
     "languageId": "polyglot-notebook"
    }
   },
   "outputs": [],
   "source": [
    "Get-ChildItem | Net-Variable -Name ChildItems\n",
    "$ChildItems | Select-Object -First 5"
   ]
  },
  {
   "attachments": {},
   "cell_type": "markdown",
   "metadata": {
    "dotnet_interactive": {
     "language": "pwsh"
    },
    "polyglot_notebook": {
     "kernelName": "pwsh"
    }
   },
   "source": [
    "### Dynamic Variable Creation\n",
    "Use `New-Variable` when you want to use another variable to dynamically set the name of your new variable."
   ]
  },
  {
   "cell_type": "code",
   "execution_count": null,
   "metadata": {
    "dotnet_interactive": {
     "language": "pwsh"
    },
    "polyglot_notebook": {
     "kernelName": "pwsh"
    },
    "vscode": {
     "languageId": "polyglot-notebook"
    }
   },
   "outputs": [],
   "source": [
    "# Example 1: Create a variable for each item in an array.\n",
    "$List = @(\"01\",\"02\",\"03\",\"04\",\"05\")\n",
    "foreach ($item in $List) {\n",
    "    New-Variable -Name \"Item$item\" -Value \"This is value $item.\" -Verbose\n",
    "}"
   ]
  },
  {
   "cell_type": "code",
   "execution_count": null,
   "metadata": {
    "dotnet_interactive": {
     "language": "pwsh"
    },
    "polyglot_notebook": {
     "kernelName": "pwsh"
    },
    "vscode": {
     "languageId": "polyglot-notebook"
    }
   },
   "outputs": [],
   "source": [
    "# Example 2: This example creates \"hostEntry1_name\" = \"server01\" (for 1 - 5).\n",
    "$CurrentResult = @(\"server01\",\"server02\",\"server03\",\"server04\",\"server05\")\n",
    "$RecordHostCounter = 0\n",
    "foreach ($item in $CurrentResult) {\n",
    "    $RecordHostCounter++\n",
    "    Set-Variable -Name ('hostEntry{0}_name' -f $RecordHostCounter) -Value $item -Verbose\n",
    "}"
   ]
  },
  {
   "attachments": {},
   "cell_type": "markdown",
   "metadata": {
    "dotnet_interactive": {
     "language": "pwsh"
    },
    "polyglot_notebook": {
     "kernelName": "pwsh"
    }
   },
   "source": [
    "### Copy the contents of the clipboard into a variable\n",
    "Use cases can vary widely! Of course, you can still use the `OutVariable` common parameter with Get-Clipboard, but if you need to get fancy, `New-Variable` helps you get fancy.\n",
    "\n",
    "Examples: \n",
    " - Use to copy variable from one PowerShell instance to another via the clipboard. \n",
    " - Check for admin permissions. If the user has, open an elevated prompt and carry the contents of a variable into their new elevated window via the clipboard."
   ]
  },
  {
   "cell_type": "code",
   "execution_count": null,
   "metadata": {
    "dotnet_interactive": {
     "language": "pwsh"
    },
    "polyglot_notebook": {
     "kernelName": "pwsh"
    },
    "vscode": {
     "languageId": "polyglot-notebook"
    }
   },
   "outputs": [],
   "source": [
    "# Use it to put the contents of the clipboard into a variable.\n",
    "Get-Clipboard | Set-Variable -Name ClipboardContents"
   ]
  },
  {
   "attachments": {},
   "cell_type": "markdown",
   "metadata": {
    "dotnet_interactive": {
     "language": "pwsh"
    },
    "polyglot_notebook": {
     "kernelName": "pwsh"
    }
   },
   "source": [
    "### Other Possible Uses\n",
    "\n",
    " - Use it to more easily create a variable from a string in an array.\n",
    "\n",
    " - Use New-Variable when you want to put a space in a variable name--but don't, that is a BAD idea!\n",
    "\n",
    " - Use it to create variables in loops. Example: Loop through a list of vCenter servers to connect to and create \n",
    "   a different variable for each server."
   ]
  }
 ],
 "metadata": {
  "kernelspec": {
   "display_name": ".NET (C#)",
   "language": "C#",
   "name": ".net-csharp"
  },
  "polyglot_notebook": {
   "kernelInfo": {
    "defaultKernelName": "csharp",
    "items": [
     {
      "aliases": [],
      "name": "csharp"
     }
    ]
   }
  }
 },
 "nbformat": 4,
 "nbformat_minor": 2
}
