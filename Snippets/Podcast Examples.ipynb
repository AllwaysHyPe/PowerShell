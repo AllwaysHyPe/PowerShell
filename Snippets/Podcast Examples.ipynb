{
 "cells": [
  {
   "cell_type": "markdown",
   "metadata": {},
   "source": [
    "# Streamlining PowerShell Package Management\n",
    "\n",
    "## The PowerShell Podcast E155 with Fred Weinmann\n",
    "\n",
    "Watch on [YouTube](https://www.youtube.com/watch?v=IcRVwrNNY2g&list=PL1mL90yFExsjUS8DRkzfLUcHds7vlxqgM&index=6)."
   ]
  },
  {
   "cell_type": "markdown",
   "metadata": {},
   "source": [
    "# Install Pwsh Module in Windows PowerShell All Users\n",
    "\n",
    "Install a module from PowerShell 7 in the all users WindowsPowerShell folder so it will be available to both editions for all users from one location."
   ]
  },
  {
   "cell_type": "code",
   "execution_count": null,
   "metadata": {
    "dotnet_interactive": {
     "language": "pwsh"
    },
    "polyglot_notebook": {
     "kernelName": "pwsh"
    },
    "vscode": {
     "languageId": "polyglot-notebook"
    }
   },
   "outputs": [],
   "source": [
    "Install-PSFModule 'Microsoft.Entra' -Scope AllUsersWinPS"
   ]
  },
  {
   "cell_type": "markdown",
   "metadata": {},
   "source": [
    "# Custom Module Installation Location\n",
    "\n",
    "Set the installation location for modules that get installed by Install-PSFModule."
   ]
  },
  {
   "cell_type": "code",
   "execution_count": null,
   "metadata": {
    "dotnet_interactive": {
     "language": "pwsh"
    },
    "polyglot_notebook": {
     "kernelName": "pwsh"
    },
    "vscode": {
     "languageId": "polyglot-notebook"
    }
   },
   "outputs": [],
   "source": [
    "Register-PSFmoduleScope -Name CurrentUser -Path C:\\Windows\\Temp\\Demo -Description 'Local Path'\n",
    "\n",
    "Install-PSFModule -Name EntraAuth\n",
    "$result = Install-PSFModule -Name EntraAuth\n",
    "$result | Format-List"
   ]
  },
  {
   "cell_type": "markdown",
   "metadata": {},
   "source": [
    "# Save-PSFModule\n",
    "\n",
    "Install a module from the Nuget v2 gallery and skip dependencies."
   ]
  },
  {
   "cell_type": "code",
   "execution_count": null,
   "metadata": {
    "dotnet_interactive": {
     "language": "pwsh"
    },
    "polyglot_notebook": {
     "kernelName": "pwsh"
    },
    "vscode": {
     "languageId": "polyglot-notebook"
    }
   },
   "outputs": [],
   "source": [
    "Save-PSFModule -Name PSUtil -Repository PSGallery -Type V2 -SkipDependencies"
   ]
  }
 ],
 "metadata": {
  "kernelspec": {
   "display_name": ".NET (C#)",
   "language": "C#",
   "name": ".net-csharp"
  },
  "language_info": {
   "name": "python"
  },
  "polyglot_notebook": {
   "kernelInfo": {
    "defaultKernelName": "csharp",
    "items": [
     {
      "aliases": [],
      "name": "csharp"
     }
    ]
   }
  }
 },
 "nbformat": 4,
 "nbformat_minor": 2
}
