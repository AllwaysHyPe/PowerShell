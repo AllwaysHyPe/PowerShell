{
 "cells": [
  {
   "cell_type": "markdown",
   "metadata": {},
   "source": [
    "Playing with JSON, objects, clipboard, etc."
   ]
  },
  {
   "cell_type": "code",
   "execution_count": null,
   "metadata": {
    "vscode": {
     "languageId": "polyglot-notebook"
    }
   },
   "outputs": [],
   "source": [
    "get-ciminstance win32_pnpsigneddriver | where-object { $_.deviceclass -eq 'NET' -and $_.manufacturer -ne 'Microsoft' -and $_.manufacturer -ne 'Cisco Systems' } | convertto-json -Depth 3 | Set-Clipboard\n"
   ]
  },
  {
   "cell_type": "markdown",
   "metadata": {},
   "source": []
  },
  {
   "cell_type": "markdown",
   "metadata": {},
   "source": []
  },
  {
   "cell_type": "markdown",
   "metadata": {},
   "source": [
    "A theoretical function to count the depths of a JSON object."
   ]
  },
  {
   "cell_type": "code",
   "execution_count": null,
   "metadata": {
    "vscode": {
     "languageId": "polyglot-notebook"
    }
   },
   "outputs": [],
   "source": [
    "function Get-JsonDepth {\n",
    "    param (\n",
    "        [Parameter(Mandatory=$true)]\n",
    "        [psobject]$JsonObject,\n",
    "        [int]$Depth = 0\n",
    "    )\n",
    "\n",
    "    $maxDepth = $Depth\n",
    "\n",
    "    if ($JsonObject -is [pscustomobject]) {\n",
    "        foreach ($property in $JsonObject.PSObject.Properties) {\n",
    "            $currentDepth = Get-JsonDepth -JsonObject $property.Value -Depth ($Depth + 1)\n",
    "            if ($currentDepth -gt $maxDepth) {\n",
    "                $maxDepth = $currentDepth\n",
    "            }\n",
    "        }\n",
    "    }\n",
    "\n",
    "    return $maxDepth\n",
    "}\n"
   ]
  },
  {
   "cell_type": "markdown",
   "metadata": {},
   "source": [
    "It works as follows:"
   ]
  },
  {
   "cell_type": "code",
   "execution_count": null,
   "metadata": {
    "vscode": {
     "languageId": "polyglot-notebook"
    }
   },
   "outputs": [],
   "source": [
    "$jsonString = '{\"key1\": {\"key2\": {\"key3\": \"value\"}}}' # replace with your JSON string\n",
    "$jsonObject = ConvertFrom-Json -InputObject $jsonString\n",
    "$depth = Get-JsonDepth -JsonObject $jsonObject\n",
    "Write-Output \"The JSON object has a depth of $depth.\"\n"
   ]
  },
  {
   "cell_type": "markdown",
   "metadata": {},
   "source": [
    "Checkout Clipboard-Tools which includes tool to validate JSON and XML, expand or compress JSON formatting, etc\n",
    "\n",
    "Use dev tools in Edge or Chrome to view the Graph connection strings and the use the \"Copy as PowerShell\" feature!"
   ]
  },
  {
   "cell_type": "code",
   "execution_count": null,
   "metadata": {
    "vscode": {
     "languageId": "polyglot-notebook"
    }
   },
   "outputs": [],
   "source": [
    "$session = New-Object Microsoft.PowerShell.Commands.WebRequestSession\n",
    "$session.UserAgent = \"Mozilla/5.0 (Windows NT 10.0; Win64; x64) AppleWebKit/537.36 (KHTML, like Gecko) Chrome/119.0.0.0 Safari/537.36 Edg/119.0.0.0\"\n",
    "Invoke-WebRequest -UseBasicParsing -Uri \"https://graph.microsoft.com/beta/deviceManagement/managedDevices?`$filter=(Notes%20eq%20%27bc3e5c73-e224-4e63-9b2b-0c36784b7e80%27)&`$select=deviceName,managementAgent,ownerType,complianceState,deviceType,osVersion,lastSyncDateTime,userPrincipalName,id,deviceRegistrationState,managementState,exchangeAccessState,exchangeAccessStateReason,deviceActionResults,jailbroken,enrolledDateTime,deviceEnrollmentType&`$orderby=deviceName%20asc&`$top=50&`$skipToken=Skip=%270%27&\" `\n",
    "-Method \"OPTIONS\" `\n",
    "-WebSession $session `\n",
    "-Headers @{\n",
    "\"Accept\"=\"*/*\"\n",
    "  \"Accept-Encoding\"=\"gzip, deflate, br\"\n",
    "  \"Accept-Language\"=\"en-US,en;q=0.9\"\n",
    "  \"Access-Control-Request-Headers\"=\"authorization,client-request-id,x-content-type-options,x-ms-client-request-id,x-ms-command-name\"\n",
    "  \"Access-Control-Request-Method\"=\"GET\"\n",
    "  \"Origin\"=\"https://sandbox-92-4.reactblade.portal.azure.net\"\n",
    "  \"Referer\"=\"https://sandbox-92-4.reactblade.portal.azure.net/\"\n",
    "  \"Sec-Fetch-Dest\"=\"empty\"\n",
    "  \"Sec-Fetch-Mode\"=\"cors\"\n",
    "  \"Sec-Fetch-Site\"=\"cross-site\"\n",
    "}\n"
   ]
  },
  {
   "cell_type": "markdown",
   "metadata": {},
   "source": [
    "Copy the above block to the clipboard and then pipe it to ClipboardTools-EdgeDebuggerGraphAPIExtractPowershellMGGraphModule"
   ]
  },
  {
   "cell_type": "markdown",
   "metadata": {},
   "source": [
    "Play with ConvertFrom-Base64"
   ]
  }
 ],
 "metadata": {
  "language_info": {
   "name": "csharp"
  }
 },
 "nbformat": 4,
 "nbformat_minor": 2
}
